{
 "cells": [
  {
   "cell_type": "markdown",
   "id": "1482e735-789e-4269-857e-c33eaaa4e150",
   "metadata": {},
   "source": [
    "# Accuracy, Precision, Recall, F1-score 복습"
   ]
  },
  {
   "cell_type": "markdown",
   "id": "d0db81b1-375f-4370-9654-5a024a2f5f23",
   "metadata": {},
   "source": [
    "서울과학기술대학교 데이터사이언스학과 홍정식 교수님의 데이터마이닝 수업 자료와 ‘[핸즈온 머신러닝](https://product.kyobobook.co.kr/detail/S000001810262)’을 참고하여 작성하였음."
   ]
  },
  {
   "cell_type": "markdown",
   "id": "6645c794-e84f-4e48-b014-d6cc2a838b68",
   "metadata": {},
   "source": [
    "## 요약"
   ]
  },
  {
   "attachments": {},
   "cell_type": "markdown",
   "id": "16505473-97cb-4e25-9097-ffd6a9b85892",
   "metadata": {},
   "source": [
    "![](images/metrics/confusion-table.png)"
   ]
  },
  {
   "cell_type": "markdown",
   "id": "d1c8fd13-2978-424c-94e8-6b23b17a20c3",
   "metadata": {},
   "source": [
    "$$\\text{Accuracy}=\\frac{TP + TN}{TP + FN + FP + TN}=\\frac{\\text{올바르게 분류}}{\\text{전체}}$$"
   ]
  },
  {
   "cell_type": "markdown",
   "id": "d5d2f498-d5ce-4557-b0f9-75643592025e",
   "metadata": {},
   "source": [
    "$$\\text{Precision} =\\frac{TP}{TP + FP} = \\frac{\\text{예측1} \\cap \\text{실제1}}{예측1}$$"
   ]
  },
  {
   "cell_type": "markdown",
   "id": "dad1df87-ccfb-40dd-b11d-784d1a1432ea",
   "metadata": {},
   "source": [
    "$$\\text{Recall} =\\frac{TP}{TP + FN} =\\frac{\\text{예측1} \\cap \\text{실제1}}{실제1}$$"
   ]
  },
  {
   "cell_type": "markdown",
   "id": "9f378730-2b96-4d1d-9bd7-c75c51efa560",
   "metadata": {},
   "source": [
    "$$\\text{F1-Score} = \\text{Recall과 Precision의 조화평균}$$"
   ]
  },
  {
   "cell_type": "markdown",
   "id": "cda3da23-20e2-480b-86c2-02a10c2af91a",
   "metadata": {},
   "source": [
    "## 기본 예시"
   ]
  },
  {
   "cell_type": "markdown",
   "id": "40e9aa9a-fd8e-45d7-8afb-e85cd796e561",
   "metadata": {},
   "source": [
    "아래와 같은 BFP(body fat percentage)라는 데이터가 있다고 해보자. 이 데이터로 남성/여성 분류를 해보자."
   ]
  },
  {
   "attachments": {},
   "cell_type": "markdown",
   "id": "c5f69c9f-5ec0-4f68-a8f0-f93555bcdf0e",
   "metadata": {},
   "source": [
    "![](images/metrics/bpr.png)"
   ]
  },
  {
   "cell_type": "markdown",
   "id": "0cc94886-bf68-4235-a35c-701cfe2a1878",
   "metadata": {},
   "source": [
    "아주 아주 간단한 모델이 있다. 이 모델은 BFP가 20보다 높으면 여자, 낮으면 남자라고 분류했다고 하자. 나르샤, 류담, 정형돈이 잘못 분류되었고 나머지 사람들은 잘 분류되었다!\n",
    "\n",
    "그런데 20이라는 값으로 잘 나누었다고 할 수 있을까? 이 모델의 성능은 몇이라고 해야할까?"
   ]
  },
  {
   "cell_type": "markdown",
   "id": "4b0e8cc9-e343-4b6a-887c-98762fcc93c9",
   "metadata": {},
   "source": [
    "## Confusion matrix (혼동 행렬)"
   ]
  },
  {
   "cell_type": "markdown",
   "id": "fbe97df1-a0a3-4990-b79c-8145716f2f91",
   "metadata": {},
   "source": [
    "Confusion matrix는 기계학습 분야에서 지도 학습으로 훈련된 분류 알고리즘의 성능을 시각화 할 수 있는 표이다. (위키피디아)\n",
    "\n",
    "분류 결과를 가지고 Confusion matrix를 그려보면 아래와 같다."
   ]
  },
  {
   "attachments": {},
   "cell_type": "markdown",
   "id": "a204010e-d73c-4fd0-ad3e-06b35c2bdcd9",
   "metadata": {},
   "source": [
    "![](images/metrics/confusion-matrix-2.png)"
   ]
  },
  {
   "cell_type": "markdown",
   "id": "a10b3b18-8780-4677-970a-f2740da5ec47",
   "metadata": {},
   "source": [
    "Actual은 정답라벨을 의미하고, Predicted는 예측된 라벨을 의미한다. 위에서 얘기한 것처럼, 나르샤는 실제론 여자(F)인데 남자(M)로 분류되어 F행 M열에 위치해있고, 류담과 정형돈은 실제로는 남자(M)인데 여성(F)으로 분류되어 M행의 F열에 위치해있다. 나머지 칸은 올바르게 분류되었다.\n",
    "\n",
    "이 표를 좀 더 일반화해볼까? Confusion matrix를 기반으로 다음과 같은 지표들이 생성될 수 있다."
   ]
  },
  {
   "cell_type": "markdown",
   "id": "d7d54413-b84a-4c38-a538-5a42e478a687",
   "metadata": {},
   "source": [
    "## Accuracy"
   ]
  },
  {
   "cell_type": "markdown",
   "id": "e773aa5a-bd13-45c5-b054-2c94a6ea9835",
   "metadata": {},
   "source": [
    "$$\\text{Accuracy}=\\frac{TP + TN}{TP + FN + FP + TN}=\\frac{\\text{올바르게 분류}}{\\text{전체}}$$"
   ]
  },
  {
   "cell_type": "markdown",
   "id": "0ecedff3-d180-4730-91e8-cd7e2190ff00",
   "metadata": {},
   "source": [
    "가장 직관적인 비율이다. 전체 데이터 샘플 중에서 올바르게 분류된 샘플의 수를 비율로 나타낸 것이다."
   ]
  },
  {
   "cell_type": "markdown",
   "id": "f679106a-e32b-4f7b-915f-3b7d17e23042",
   "metadata": {},
   "source": [
    "### Accuracy의 한계"
   ]
  },
  {
   "cell_type": "markdown",
   "id": "bd6e809e-1ad1-4ce6-b894-2b76a516a6a8",
   "metadata": {},
   "source": [
    "그런데 Accuracy는 데이터에 따라 잘못된 통계를 나타낼 수도 있다. 예를 들어 스팸메일이면 1, 정상 메일이 아니면 0이라고 예측하는 모델을 만들었다고 해보자.\n",
    "\n",
    "근데, 일반적으로 정상적인 메일이 대다수이고 스팸메일은 많은 비중을 차지하지 않는다. 예를 들어 정상 메일이 95개, 스팸메일이 5개라고 해보자. 그리고 이 모델이 스팸 메일을 1개밖에 걸러내지 못했고, 정상 메일 중에서 5개를 스팸 메일로 잘못 예측했다고 해보자. 그럼 Confusion matrix는 어떻게 될까?"
   ]
  },
  {
   "attachments": {},
   "cell_type": "markdown",
   "id": "10aa684e-2529-4b2f-afec-5a1bbc094e32",
   "metadata": {},
   "source": [
    "![](images/metrics/accuracy-draw.png)"
   ]
  },
  {
   "cell_type": "markdown",
   "id": "974aa170-b860-4ef8-922a-fa73cde3d7e8",
   "metadata": {},
   "source": [
    "여기서 Accuracy를 구해보면, 91/100=0.91, 무려 91%의 정확도를 가진 모델이 된다. 언뜻 보면 높아보이지만, 좋은 모델이라고 절대로 할 수 없다. 왜냐하면 데이터 Imbalance가 심하기 때문이다. 모두 정상 메일이라고 예측해도 95%가 나오기 때문에 Imbalance가 심한 데이터에서는 Accuracy를 신뢰할 수 없다."
   ]
  },
  {
   "cell_type": "markdown",
   "id": "4bbe7bac-86bd-45f0-a668-2a785e59ba25",
   "metadata": {},
   "source": [
    "이처럼 클래스 분포 및 원하는 task에 따라 Recall, Precision, F1-Score등의 다양한 관점에서 성능을 측정해야한다."
   ]
  },
  {
   "cell_type": "markdown",
   "id": "4005a39d-7f9e-4547-96a2-7fff6af92e2a",
   "metadata": {},
   "source": [
    "## Recall"
   ]
  },
  {
   "cell_type": "markdown",
   "id": "08253494-c33c-4ee7-b877-5116c1d00a0c",
   "metadata": {},
   "source": [
    "‘재현율’이라고도 부르는 Recall의 수식은 다음과 같다.\n"
   ]
  },
  {
   "cell_type": "markdown",
   "id": "1bf7b84a-4e0a-4abc-b4b8-54dfc94eefd3",
   "metadata": {},
   "source": [
    "$$\\text{Recall} =\\frac{TP}{TP + FN} =\\frac{\\text{예측1} \\cap \\text{실제1}}{실제1}$$"
   ]
  },
  {
   "attachments": {},
   "cell_type": "markdown",
   "id": "7699cc6e-5cfb-4359-97ba-b7219e2e761f",
   "metadata": {},
   "source": [
    "\n",
    "![](images/metrics/recall-draw.png)"
   ]
  },
  {
   "cell_type": "markdown",
   "id": "e4b61b2d-be40-44d0-b253-9a0512ce922f",
   "metadata": {},
   "source": [
    "실제 1에 대한 (예측 1 ∩ 실제 1)의 비율이다. 위의 예시를 다시 보자. 실제 스팸메일이 5개 였는데(주황 박스) 이 중에서 1개만(파란 박스) 올바르게 예측했으므로 Recall은 1/5=0.2가 된다. Accuracy는 매우 높았는데 Recall은 매우 낮다. Accuracy만 보고 좋은 모델이라고 했으면 큰일 날 뻔했다."
   ]
  },
  {
   "cell_type": "markdown",
   "id": "74033905-5851-4b0e-bf74-af112ec5cc79",
   "metadata": {},
   "source": [
    "### Recall을 봐야 하는 이유"
   ]
  },
  {
   "cell_type": "markdown",
   "id": "2ed698ed-91e6-42fd-aba3-ad21fa9ab0dc",
   "metadata": {},
   "source": [
    "예를 들어보자. 감시카메라로 좀도둑을 잡아내는 분류기를 학습시키고자 한다. 이 경우에는 좀도둑이라고 예측한 케이스가 많아도 상관없다. 못 잡아내는 단 1번이 너무 크리티컬하기 때문이다. 이 잡듯 여기저기 다 뒤져서라도 잡으면 그게 못 잡는 것보다 나은 경우이다. 그렇다면,"
   ]
  },
  {
   "cell_type": "markdown",
   "id": "64885d32-8d39-41ae-adcc-9ef7d8440440",
   "metadata": {},
   "source": [
    "Recall( = (예측1 ∩ 실제1) / 실제1)이 중요할까? Precision( = (실제1 ∩ 예측1) / 예측1)이 중요할까?"
   ]
  },
  {
   "cell_type": "markdown",
   "id": "d5818e76-5119-4c7a-a09e-d2167d81e92f",
   "metadata": {},
   "source": [
    "Recall이 올라가려면 예측1이 많으면 많을수록 높아지긴 한다. 그러니까 Recall을 사용하는 경우는 예측1이 아무리 많아도 타격 없는, 1을 잡아내는게 너무나도 중요한 경우이다. 질병을 예측하는 일도 Recall 성능을 확인해야 할 것이다. 왜냐하면 일단 질병이라고 예측했는데, 아니더라도 큰 타격이 없기 때문이다. 그러나 이 질병을 맞추지 못한 경우에는 어마어마한 페널티가 따를 것이다."
   ]
  },
  {
   "attachments": {},
   "cell_type": "markdown",
   "id": "781c2db3-9ad8-413e-aadf-9c53273869f7",
   "metadata": {},
   "source": [
    "![](images/metrics/recall-draw-2.png)"
   ]
  },
  {
   "cell_type": "markdown",
   "id": "882eb520-953d-4cbd-bc8f-94e02a290241",
   "metadata": {},
   "source": [
    "극단적으로(편하게) 생각하자면 Recall은 빈대 잡다가 초가삼간 다 태워도 괜찮다."
   ]
  },
  {
   "cell_type": "markdown",
   "id": "eed25edf-db76-4e86-9821-f822569000cd",
   "metadata": {},
   "source": [
    "## Precision"
   ]
  },
  {
   "cell_type": "markdown",
   "id": "548ff1fd-39ae-43f3-a54d-7a922142942a",
   "metadata": {},
   "source": [
    "만약 이 모델이 모든 메일을 스팸메일이라고 예측하는 아주 못된(?) 모델이라고 해보자. 그 때의 Confusion matrix는 다음과 같다."
   ]
  },
  {
   "attachments": {},
   "cell_type": "markdown",
   "id": "4c2c54be-1179-4549-ba9b-478034fe0778",
   "metadata": {},
   "source": [
    "![](images/metrics/precision-draw.png)"
   ]
  },
  {
   "cell_type": "markdown",
   "id": "52476677-b77e-4a06-9e09-500fe3ea248a",
   "metadata": {},
   "source": [
    "이 경우에는, Accuracy = 5 / 100 = 0.05이고, Recall = 5 / 5 = 1이 나오게 된다. 아니 무려 Recall이 1이다. 왜 이런 일이 일어났는가?"
   ]
  },
  {
   "cell_type": "markdown",
   "id": "e9b91368-b7d2-4e55-934d-f49d2b928296",
   "metadata": {},
   "source": [
    "Recall은 실제 1 중에서 예측 1이 얼만큼 채워졌는지 만을 보기 때문에 싹 다 1로 예측해버리면 Recall=1이다. 이런 상황에서는 Precision(정밀도)가 도움이 될 수 있다. Precision은 다음과 같다."
   ]
  },
  {
   "cell_type": "markdown",
   "id": "76df935c-43cb-47d9-a06a-c946511c010b",
   "metadata": {},
   "source": [
    "$$\\text{Precision} =\\frac{TP}{TP + FP} = \\frac{\\text{예측1} \\cap \\text{실제1}}{예측1}$$"
   ]
  },
  {
   "cell_type": "markdown",
   "id": "ca7a6e1b-c85a-44b6-8030-013d37dbd615",
   "metadata": {},
   "source": [
    "예측 1에 대한 (실제 1∩예측 1)의 비율."
   ]
  },
  {
   "cell_type": "markdown",
   "id": "445946b0-669e-422e-87a2-f91f971f54b7",
   "metadata": {},
   "source": [
    "예측을 1로 내놓은 것 중에서 실제 1이 얼마나 차지하는 지를 나타낸 것이다. 위의 예시에서 Precision을 계산해보면, Precision=5 / 100 = 0.05가 된다. 갑자기 왜 이렇게 낮아졌냐? 하면, 1로 예측한 것은 엄청 많은데, 그 중에 실제 1이 별로 없기 때문이다."
   ]
  },
  {
   "attachments": {},
   "cell_type": "markdown",
   "id": "738be4e9-30cf-431b-ba35-85012c26835f",
   "metadata": {},
   "source": [
    "![](images/metrics/precision-draw-2.png)"
   ]
  },
  {
   "cell_type": "markdown",
   "id": "ed9f215a-904f-41bb-a5dd-f8de17a4cb3b",
   "metadata": {},
   "source": [
    "### Precision이 중요한 경우는?"
   ]
  },
  {
   "cell_type": "markdown",
   "id": "e988e91a-2109-4678-a910-8440f2c9ea92",
   "metadata": {},
   "source": [
    "(실제 1∩ 예측 1 ) / 예측 1 가 의미하는 것은 뭘까? 1로 예측한 것 중에서 실제 1이 많이 들어있으면 된다. 그럼 예측1을 무작정 늘릴 수 없다. 차라리 확실하게 1인 것만 1로 예측하면 Precision은 높다."
   ]
  },
  {
   "cell_type": "markdown",
   "id": "a50e6ffb-8ce8-4c1d-ac2a-47054e4ce55e",
   "metadata": {},
   "source": [
    "Precision이 높다? 이것은 모델이 모든 1을 잘 잡아낸다고 할 순 없어도, **1이라고 예측하면 거진 다 1이라는 것이다!**"
   ]
  },
  {
   "cell_type": "markdown",
   "id": "bdfa6fec-775a-4f15-b85a-12c2b55c8d30",
   "metadata": {},
   "source": [
    "내가 써 놓고도 너무 헷갈린다."
   ]
  },
  {
   "cell_type": "markdown",
   "id": "e8e8682d-55e0-40cd-b9db-4a433a6ddec0",
   "metadata": {},
   "source": [
    "대표적 예시로 스팸메일 분류가 Precision 지표를 사용하면 좋다. 정상적인 메일까지 이 잡듯 뒤져서 분류할 필요는 없다. 대신에 스팸이라고 분류했으면, 진짜 스팸이기만 하면 만족스럽다. 실제로도 사용자는 스팸함에 잘 들어가지 않는다. 그래서 정상 메일이 하나라도 스팸함에 들어가면 이 서비스를 중단하고 싶어질 것이다."
   ]
  },
  {
   "attachments": {},
   "cell_type": "markdown",
   "id": "2d027a66-76e5-4fe8-9cf4-6ecdfafe8b67",
   "metadata": {},
   "source": [
    "![](images/metrics/precision-need.png)"
   ]
  },
  {
   "cell_type": "markdown",
   "id": "bdf2ade0-ae16-4ec4-a372-1f8ead142635",
   "metadata": {},
   "source": [
    "# F1-Score"
   ]
  },
  {
   "cell_type": "markdown",
   "id": "67b78b61-a31b-4397-a412-4e1e76ffb4c0",
   "metadata": {},
   "source": [
    "지금까지를 요약해보면 이렇다."
   ]
  },
  {
   "cell_type": "markdown",
   "id": "e4fccf2f-54de-4c4e-9f5b-1892f7f44c2c",
   "metadata": {},
   "source": [
    "실제 1 중에서 예측 1이 얼마나 차지하는가? → Recall."
   ]
  },
  {
   "cell_type": "markdown",
   "id": "6bad5db9-3a5b-45b6-9e38-fe3fb05e44ba",
   "metadata": {},
   "source": [
    "예측 1 중에서 실제 1이 얼마나 차지하는가? → Precision."
   ]
  },
  {
   "cell_type": "markdown",
   "id": "0a79f7a9-a572-49f0-acc5-bf8211d13af7",
   "metadata": {},
   "source": [
    "둘 다 성능을 계산하는 지표로서 타당해 보인다."
   ]
  },
  {
   "cell_type": "markdown",
   "id": "f95902a9-6ce3-4f08-9188-29da3c4e9086",
   "metadata": {},
   "source": [
    "Recall과 Precision을 F1-Score라는 하나의 숫자로 만들면 편리할 때가 많다. 특히 두 분류기를 비교할 때 좋다. F1-Score는 아래와 같이 Recall과 Precision의 조화 평균이다."
   ]
  },
  {
   "attachments": {},
   "cell_type": "markdown",
   "id": "42ddf6e5-957d-4d67-804a-ee54c210e569",
   "metadata": {
    "pycharm": {
     "name": "#%% md\n"
    }
   },
   "source": [
    "![](images/metrics/f1score-formula.png)"
   ]
  },
  {
   "cell_type": "markdown",
   "id": "0bf78816-2f59-46de-bbfc-92b1c97f01e3",
   "metadata": {},
   "source": [
    "Recall과 Precision이 둘 다 높아야 되기 때문에 둘을 평균 낸 것은 알겠다. 그런데 굳이 조화평균을 쓰는 이유가 있을까? 아래 그림처럼 예를 들어보자. Recall과 Precision이 각각 0.6, 0.8인 경우와 각각 0.7, 0.7인 경우, 두 케이스의 조화평균을 구하면 아래 그림과 같다."
   ]
  },
  {
   "cell_type": "code",
   "execution_count": 1,
   "id": "9599694f-511c-4d45-bfe5-73814f33f9fc",
   "metadata": {},
   "outputs": [
    {
     "name": "stdout",
     "output_type": "stream",
     "text": [
      "조화평균 : 0.69\n"
     ]
    }
   ],
   "source": [
    "recall = 0.6\n",
    "precision = 0.8\n",
    "f1 = (2 * recall * precision) / (recall + precision)\n",
    "print(f\"조화평균 : {f1:.2f}\")"
   ]
  },
  {
   "cell_type": "code",
   "execution_count": 2,
   "id": "e5b4057c-52fb-4466-8544-5ce849dacf31",
   "metadata": {},
   "outputs": [
    {
     "name": "stdout",
     "output_type": "stream",
     "text": [
      "조화평균 : 0.70\n"
     ]
    }
   ],
   "source": [
    "recall = 0.7\n",
    "precision = 0.7\n",
    "f1 = (2 * recall * precision) / (recall + precision)\n",
    "print(f\"조화평균 : {f1:.2f}\")"
   ]
  },
  {
   "cell_type": "markdown",
   "id": "741cfe34-e879-4b2d-8f19-62a7c3b38dad",
   "metadata": {},
   "source": [
    "두 케이스 모두 산술 평균은 0.7로 똑같을 것이다. 그러나 모델을 사용하는 입장에서 진짜로 원하는 성능은 둘 다 높은 것 이외에도, Recall과 Precision 어느 한 쪽에 치우치지 않아야 한다는 것이다. 조화 평균은 두 숫자 간의 차이가 적을 때, 더 높게 계산된다."
   ]
  },
  {
   "cell_type": "markdown",
   "id": "0309f06d-0e5a-4616-898a-78e9c380ac54",
   "metadata": {},
   "source": [
    "즉 F1-Score는 Recall과 Precision 사이의 차이가 적을 때, 그리고 Recall과 Precision 둘 다 높을 때 더 좋은 모델이라 판단한다."
   ]
  },
  {
   "cell_type": "markdown",
   "id": "5da0e663-7ce0-43d9-8543-ffc5e6e7aa1d",
   "metadata": {},
   "source": []
  },
  {
   "cell_type": "markdown",
   "id": "6c8d031d-6360-4c79-9414-a5c17e582e8f",
   "metadata": {},
   "source": []
  },
  {
   "cell_type": "markdown",
   "id": "133eb633-a500-4f42-8a7d-c24e480d8612",
   "metadata": {},
   "source": []
  },
  {
   "cell_type": "markdown",
   "id": "12cbc94b-c50f-4448-87b3-d64e0df72fa6",
   "metadata": {},
   "source": []
  },
  {
   "cell_type": "markdown",
   "id": "8b8f27b5-fb8b-49e5-8950-3dbefa7affdc",
   "metadata": {},
   "source": []
  },
  {
   "cell_type": "markdown",
   "id": "f47de5a7-9996-4167-80b5-2336d5b8f66d",
   "metadata": {},
   "source": []
  },
  {
   "cell_type": "markdown",
   "id": "9cf15932-fea7-4738-9ced-660f2393edcc",
   "metadata": {},
   "source": []
  },
  {
   "cell_type": "markdown",
   "id": "7f4c3ffc-c9e6-45fd-83a7-afdb1b717527",
   "metadata": {},
   "source": []
  },
  {
   "cell_type": "markdown",
   "id": "1e7d7878-e38b-4732-99af-38ec1c2e145a",
   "metadata": {},
   "source": []
  },
  {
   "cell_type": "markdown",
   "id": "b103f14b-2335-4d30-b56e-bac6d0c9462b",
   "metadata": {},
   "source": []
  }
 ],
 "metadata": {
  "kernelspec": {
   "display_name": "jupyterbook",
   "language": "python",
   "name": "jupyterbook"
  },
  "language_info": {
   "codemirror_mode": {
    "name": "ipython",
    "version": 3
   },
   "file_extension": ".py",
   "mimetype": "text/x-python",
   "name": "python",
   "nbconvert_exporter": "python",
   "pygments_lexer": "ipython3",
   "version": "3.9.9"
  }
 },
 "nbformat": 4,
 "nbformat_minor": 5
}