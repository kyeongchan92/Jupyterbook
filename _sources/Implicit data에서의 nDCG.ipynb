{
 "cells": [
  {
   "cell_type": "markdown",
   "id": "b8c80511-3de6-4c20-9711-cb92ea06d6a8",
   "metadata": {},
   "source": [
    "# Implicit data에서의 nDCG"
   ]
  },
  {
   "cell_type": "markdown",
   "id": "941d7f14-eea0-4ca0-b6d0-74ed0e44db3d",
   "metadata": {},
   "source": [
    "## Trirank: Review-aware explainable recommendation by modeling aspects\n",
    "EXPERIMENTS > Evaluation Metrics."
   ]
  },
  {
   "cell_type": "markdown",
   "id": "35563d44-08c2-40af-9837-7f14720bc681",
   "metadata": {},
   "source": [
    "$$NDCG@K=Z_K \\sum_{i=1}^{K} \\frac{2^{rel_i}-1}{\\log_2(i+1)}$$"
   ]
  },
  {
   "cell_type": "markdown",
   "id": "ac7ab1d3-b795-4b9a-a3db-1d78bf744091",
   "metadata": {},
   "source": [
    "$Z_K$는 제일 좋은 성능일 때를 1로 만들기 위한 normalizer이다. $rel_i$는 번째 아이템의 graded relavance이다. (implicit data이기 때문에) $r_i$는 1 또는 0이며, 1일 때는 아이템이 test set에 존재할 때이고, 0일 때는 그렇지 않을 때이다."
   ]
  },
  {
   "cell_type": "markdown",
   "id": "3ffd916f-7459-4a2b-8452-a5d47fc054ef",
   "metadata": {},
   "source": [
    "## 예시"
   ]
  },
  {
   "cell_type": "markdown",
   "id": "f57371fc-1932-45ad-a09c-b18f3812f8be",
   "metadata": {},
   "source": [
    "예를 들어 $K=5$라고 해보자."
   ]
  },
  {
   "attachments": {},
   "cell_type": "markdown",
   "id": "ac741659-1591-4f01-91a7-64243daddd7f",
   "metadata": {},
   "source": [
    "![](images/implicit-ndcg/test-user.png)"
   ]
  },
  {
   "cell_type": "markdown",
   "id": "67f9e1fb-b5bd-4760-bbb6-4945625286ab",
   "metadata": {},
   "source": [
    "다음과 같이 $t$라는 테스트 유저가 있고, 이 유저는 0\\~4까지 사용(클릭)했고 5~9 아이템은 사용하지 않았다고 해보자"
   ]
  },
  {
   "attachments": {},
   "cell_type": "markdown",
   "id": "c1a4b233-f596-46e3-b91c-48bc64a3eab0",
   "metadata": {},
   "source": [
    "![](images/implicit-ndcg/test-user-train-test-split.png)"
   ]
  },
  {
   "cell_type": "markdown",
   "id": "971a6231-b5a6-43f5-a2e0-0e153fd49d26",
   "metadata": {},
   "source": [
    "사용한 아이템을 train과 test로 나누게 될 것이다. 그리고 train으로 학습이 진행될 것이다. 이제 테스트 시간이 왔다고 하자."
   ]
  },
  {
   "attachments": {},
   "cell_type": "markdown",
   "id": "df9ddd5b-533a-4f33-8d3c-bbf2e8e1a029",
   "metadata": {},
   "source": [
    "![](images/implicit-ndcg/calculate-ndcg.png)"
   ]
  },
  {
   "cell_type": "code",
   "execution_count": 11,
   "id": "df67b874-65b1-4d9a-8d59-cea5b01ff072",
   "metadata": {},
   "outputs": [],
   "source": [
    "k = 5\n",
    "actual_set = set([3, 4])\n",
    "pred = [6, 3, 8, 4, 5]"
   ]
  },
  {
   "cell_type": "markdown",
   "id": "28e7bc31-3d95-4b28-b497-c701f1e2281e",
   "metadata": {},
   "source": [
    "모델이 예측한 결과가 [6, 3, 8, 4, 5]라고 하자. 순서는? 모델에 따라 다르겠지만 implicit data(1 or 0)인 경우 예측 확률이 1에 가까운 순서로 정렬한다. 그리고 테스트 유저가 실제로 사용했고 test 셋으로 분류된 아이템은 actual_set = set([3, 4])였다. 이 actual set에서 순서는 사용되지 않는다."
   ]
  },
  {
   "cell_type": "markdown",
   "id": "f46b66a8-d313-44db-afb1-e33d77c6d435",
   "metadata": {},
   "source": [
    "idcg를 구해보자. idcg는 모델 예측이 actual_set으로 1위부터 쭉 나열된 경우, 말그대로 ideal한 상황이다."
   ]
  },
  {
   "cell_type": "code",
   "execution_count": 12,
   "id": "4211d3f5-33bd-45c1-bffe-3263ce61b37c",
   "metadata": {},
   "outputs": [
    {
     "name": "stdout",
     "output_type": "stream",
     "text": [
      "idcg : 1.6309\n"
     ]
    }
   ],
   "source": [
    "import numpy as np\n",
    "\n",
    "# idcg \n",
    "cal_num = min(k, len(actual_set))\n",
    "idcg = sum([1.0 / np.log2(i + 1) for i in range(1, cal_num+1)])\n",
    "print(f\"idcg : {idcg:.4f}\")"
   ]
  },
  {
   "cell_type": "markdown",
   "id": "89ee89dc-a05e-4942-81e2-daa36634ad09",
   "metadata": {},
   "source": [
    "dcg를 구해보자. dcg는 $K=5$까지 $\\sum_{i=1}^{K} \\frac{2^{rel_i}-1}{\\log_2(i+1)}$를 계산한 값이다."
   ]
  },
  {
   "cell_type": "code",
   "execution_count": 13,
   "id": "4d89a1d1-69a6-4f6d-8324-32613e31e524",
   "metadata": {},
   "outputs": [
    {
     "name": "stdout",
     "output_type": "stream",
     "text": [
      "dcg : 1.0616\n"
     ]
    }
   ],
   "source": [
    "## dcg\n",
    "dcg = 0\n",
    "for i, item in enumerate(pred, start=1):\n",
    "    if item in actual_set:\n",
    "        dcg += 1.0 / np.log2(i + 1)\n",
    "\n",
    "print(f\"dcg : {dcg:.4f}\")"
   ]
  },
  {
   "cell_type": "markdown",
   "id": "27d5f0c7-b48c-4924-bbfd-ecfc346bfd31",
   "metadata": {},
   "source": [
    "ndcg는 dcg를 idcg로 나눈 값이다."
   ]
  },
  {
   "cell_type": "code",
   "execution_count": 14,
   "id": "af321aa3-eb49-4c68-a163-42b05f60a552",
   "metadata": {},
   "outputs": [
    {
     "name": "stdout",
     "output_type": "stream",
     "text": [
      "idcg : 1.6309, dcg : 1.0616, ndcg : 0.6509\n"
     ]
    }
   ],
   "source": [
    "# ndcg\n",
    "ndcg_k = dcg / idcg\n",
    "print(f\"idcg : {idcg:.4f}, dcg : {dcg:.4f}, ndcg : {ndcg_k:.4f}\")"
   ]
  },
  {
   "cell_type": "code",
   "execution_count": null,
   "id": "a7dccf22-493b-42ed-aea0-262f01c75855",
   "metadata": {},
   "outputs": [],
   "source": []
  },
  {
   "cell_type": "code",
   "execution_count": null,
   "id": "3a7d510c-7f59-44f8-a22f-0301ca04e140",
   "metadata": {},
   "outputs": [],
   "source": [
    "\n"
   ]
  }
 ],
 "metadata": {
  "kernelspec": {
   "display_name": "jupyterbook",
   "language": "python",
   "name": "jupyterbook"
  },
  "language_info": {
   "codemirror_mode": {
    "name": "ipython",
    "version": 3
   },
   "file_extension": ".py",
   "mimetype": "text/x-python",
   "name": "python",
   "nbconvert_exporter": "python",
   "pygments_lexer": "ipython3",
   "version": "3.9.9"
  }
 },
 "nbformat": 4,
 "nbformat_minor": 5
}
