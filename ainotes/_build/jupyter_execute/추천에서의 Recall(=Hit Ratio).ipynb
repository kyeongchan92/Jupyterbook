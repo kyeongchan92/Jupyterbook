{
 "cells": [
  {
   "cell_type": "markdown",
   "id": "3a3b1731-6b9b-4379-b4ef-418016b1d3d8",
   "metadata": {
    "pycharm": {
     "name": "#%% md\n"
    }
   },
   "source": [
    "# 추천에서의 Recall (=Hit Ratio)"
   ]
  },
  {
   "cell_type": "markdown",
   "id": "4d4ba26f-e5d4-4d19-86cf-958e99330d31",
   "metadata": {
    "pycharm": {
     "name": "#%% md\n"
    }
   },
   "source": [
    "Recall은 실제 True인 것에서 모델이 True라고 예측한 것의 비율이다."
   ]
  },
  {
   "cell_type": "markdown",
   "id": "bfbbbd59-5bc5-4fe1-ac86-733e7682f24c",
   "metadata": {
    "pycharm": {
     "name": "#%% md\n"
    }
   },
   "source": [
    "## 1. Implicit data에서의 Recall"
   ]
  },
  {
   "cell_type": "markdown",
   "id": "08a24fea-64c9-489a-9b58-356c7265c23b",
   "metadata": {
    "pycharm": {
     "name": "#%% md\n"
    }
   },
   "source": [
    "train test split"
   ]
  },
  {
   "attachments": {},
   "cell_type": "markdown",
   "id": "09c2e5b1-5381-4d32-88af-5b2985a71d9b",
   "metadata": {
    "pycharm": {
     "name": "#%% md\n"
    }
   },
   "source": [
    "![](images/recall/user-items.png)"
   ]
  },
  {
   "cell_type": "markdown",
   "id": "87313091-1015-4a35-8406-880844cadd74",
   "metadata": {
    "pycharm": {
     "name": "#%% md\n"
    }
   },
   "source": [
    "그림과 같이 어떤 유저가 사용한 아이템과 아직 사용하지 않은 아이템이 있다고 하자. 실제 데이터에서는 사용 아이템보다는 미사용 아이템이 훨씬 훨씬 많을 것이다."
   ]
  },
  {
   "attachments": {},
   "cell_type": "markdown",
   "id": "e2af2d5b-9a05-4088-93ce-1db196efcb96",
   "metadata": {
    "pycharm": {
     "name": "#%% md\n"
    }
   },
   "source": [
    "![](images/recall/train-test-split.png)"
   ]
  },
  {
   "cell_type": "markdown",
   "id": "5024ae62-fc4d-45ad-b60f-11b01fa47804",
   "metadata": {
    "pycharm": {
     "name": "#%% md\n"
    }
   },
   "source": [
    "우선적으로, 사용한 아이템을 train과 test로 나누게 될 것이다. 위 그림처럼 학습데이터셋으로 A, C, E라는 아이템이, 테스트 셋으로 I, K, G라는 아이템이 되었다고 하자.\n",
    "\n",
    "학습이 진행될 것이다. 학습이 끝났다 치자!"
   ]
  },
  {
   "cell_type": "markdown",
   "id": "823b7a3f-c8e2-4747-a4a4-a915feefef28",
   "metadata": {
    "pycharm": {
     "name": "#%% md\n"
    }
   },
   "source": [
    "## 계산"
   ]
  },
  {
   "attachments": {},
   "cell_type": "markdown",
   "id": "46c13e91-6524-4295-be80-5253b934fd42",
   "metadata": {
    "pycharm": {
     "name": "#%% md\n"
    }
   },
   "source": [
    "![](images/recall/test-items.png)"
   ]
  },
  {
   "cell_type": "markdown",
   "id": "3445c680-234e-4fe8-a88f-cb45afdc46b9",
   "metadata": {
    "pycharm": {
     "name": "#%% md\n"
    }
   },
   "source": [
    "테스트의 시간이 왔다. 테스트 대상이 되는 아이템은 1) interaction이 1인데 테스트셋으로 분류된 아이템과 2) 미사용한 아이템이다.\n",
    "\n",
    "k를 3으로 하고 Recall@3을 구해보자. 모델이 사용확률 높은 순서대로 정렬 했을 때 top 3가 K, G, B 라고 해보자. Recall에서는 순서는 상관없다! 이들이 선정되었다는 사실까지만 필요하다."
   ]
  },
  {
   "attachments": {},
   "cell_type": "markdown",
   "id": "97b437ce-396f-4fa4-9e68-d1089a3977b5",
   "metadata": {
    "pycharm": {
     "name": "#%% md\n"
    }
   },
   "source": [
    "![](images/recall/recall-calculation.png)"
   ]
  },
  {
   "cell_type": "markdown",
   "id": "f222310d-c08e-483c-abb5-0927debeac53",
   "metadata": {
    "pycharm": {
     "name": "#%% md\n"
    }
   },
   "source": [
    "아까 테스트로 분류된 사용한 아이템들, I, K, G을 '정답셋'이라고 하자. Recall은 예측한 아이템들과 정답셋의 교집합 개수가 분자로, k가 분모로 계산된 값이다."
   ]
  },
  {
   "cell_type": "markdown",
   "id": "b016bd1a-3ca9-4ffd-af03-3d50aa4d3eb1",
   "metadata": {
    "pycharm": {
     "name": "#%% md\n"
    }
   },
   "source": []
  },
  {
   "cell_type": "markdown",
   "id": "479a9226-4da8-4306-b0b0-e026894e84ae",
   "metadata": {
    "pycharm": {
     "name": "#%% md\n"
    }
   },
   "source": []
  },
  {
   "cell_type": "markdown",
   "id": "06b82b8b-699c-4631-9ebd-7c987cc145a9",
   "metadata": {
    "pycharm": {
     "name": "#%% md\n"
    }
   },
   "source": []
  },
  {
   "cell_type": "markdown",
   "id": "304eabb4-2b50-4005-9f18-aa29ce9cf26c",
   "metadata": {
    "pycharm": {
     "name": "#%% md\n"
    }
   },
   "source": []
  },
  {
   "cell_type": "code",
   "execution_count": null,
   "id": "d3e74628-d2bf-4d20-b8a7-1991c1b4b9f5",
   "metadata": {
    "pycharm": {
     "name": "#%%\n"
    }
   },
   "outputs": [],
   "source": []
  },
  {
   "cell_type": "code",
   "execution_count": null,
   "id": "1864a08e-e0e8-4051-830c-757070ddf3c9",
   "metadata": {
    "pycharm": {
     "name": "#%%\n"
    }
   },
   "outputs": [],
   "source": []
  },
  {
   "cell_type": "code",
   "execution_count": null,
   "id": "366948d5-87b9-403c-8310-3dcf39d2d30d",
   "metadata": {
    "pycharm": {
     "name": "#%%\n"
    }
   },
   "outputs": [],
   "source": []
  }
 ],
 "metadata": {
  "kernelspec": {
   "display_name": "jupyterbook",
   "language": "python",
   "name": "jupyterbook"
  },
  "language_info": {
   "codemirror_mode": {
    "name": "ipython",
    "version": 3
   },
   "file_extension": ".py",
   "mimetype": "text/x-python",
   "name": "python",
   "nbconvert_exporter": "python",
   "pygments_lexer": "ipython3",
   "version": "3.9.9"
  }
 },
 "nbformat": 4,
 "nbformat_minor": 5
}