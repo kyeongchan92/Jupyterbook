{
 "cells": [
  {
   "cell_type": "markdown",
   "id": "c336a4f2-f4dd-465c-9b3a-73a6aa8a2fc8",
   "metadata": {},
   "source": [
    "# Maximum Likelihood Estimation 정리"
   ]
  },
  {
   "cell_type": "markdown",
   "id": "d52e72f2-fb3b-4f6e-a89a-abc252fd2607",
   "metadata": {},
   "source": [
    "유튜버 AI Holic님의 ‘[Likelihood 쉽게 설명드려요 — 머신러닝, 인공지능을 위한 수학](https://www.youtube.com/watch?v=mxCmB1WE3R8)’ 영상을 보고 정리한 내용입니다."
   ]
  },
  {
   "cell_type": "markdown",
   "id": "de30556a-0ee6-4820-b235-a7e04b3e27e9",
   "metadata": {},
   "source": [
    "## 확률."
   ]
  },
  {
   "cell_type": "markdown",
   "id": "afc58c77-c69f-4155-a0d7-b86deb8b4ac2",
   "metadata": {},
   "source": [
    "우도에 대해 알아보기 전에, 일단 가장 친숙한 **\"확률\"** 이라는 것부터 살펴보자. 고양이들 1,000마리의 몸무게를 재서 다음과 같은 히스토그램 분포가 나왔다고 해보자. 평균은 4, 표준편차는 0.5라고 해보자."
   ]
  },
  {
   "cell_type": "markdown",
   "id": "26ea34bb-d1ea-44a7-9040-16bc253a0676",
   "metadata": {},
   "source": [
    "![](images/mle/1000cats.png)"
   ]
  },
  {
   "cell_type": "markdown",
   "id": "bda74f0b-9624-4402-9912-e09a478c0d47",
   "metadata": {},
   "source": [
    "**“확률”**이란, 다음처럼 우리가 고등학교 때 많이 구하던 바로 그것이다!"
   ]
  },
  {
   "cell_type": "markdown",
   "id": "4b79d9a4-0844-474b-b7e3-24ac4d256a6a",
   "metadata": {},
   "source": [
    "![](images/mle/ge5-l5.png)"
   ]
  },
  {
   "cell_type": "markdown",
   "id": "cf2d4a52-acf0-4d5b-8d13-a8260b7d7919",
   "metadata": {},
   "source": [
    "평균은 얼마고, 표준편차는 얼마일 때, 몸무게가 4보다 크거나 같고 5보다 작거나 같을 확률은 얼마인가?"
   ]
  },
  {
   "cell_type": "markdown",
   "id": "5a1b1348-44f0-4c50-9164-39e1005ece57",
   "metadata": {},
   "source": [
    "$$\\mathbb{P}(4 \\le \\text{몸무게} \\le 5|\\mathcal{N}(4, 0.5)) =0.477$$"
   ]
  },
  {
   "cell_type": "markdown",
   "id": "851b9cdf-0142-4c23-a8c5-800f18a7ea25",
   "metadata": {},
   "source": [
    "평균은 얼마고, 표준편차는 얼마일 때, 몸무게가 3.5보다 크거나 같고 4보다 작거나 같을 확률은 얼마인가?"
   ]
  },
  {
   "cell_type": "markdown",
   "id": "262dfa42-2976-4ae5-9f16-bc4006905f19",
   "metadata": {},
   "source": [
    "$$\\mathbb{P}(3.5 \\le \\text{몸무게} \\le 4|\\mathcal{N}(4, 0.5)) =0.34$$"
   ]
  },
  {
   "cell_type": "markdown",
   "id": "3b1e72d3-0fe8-430d-8e7c-fef2361e1214",
   "metadata": {},
   "source": [
    "![](images/mle/mycatsweight.png)"
   ]
  },
  {
   "cell_type": "markdown",
   "id": "d961c1f1-07ba-4b34-86d8-53f1a7279ed5",
   "metadata": {},
   "source": [
    "**“확률”**이란..."
   ]
  },
  {
   "cell_type": "markdown",
   "id": "dbe967ba-d8b2-4d1f-b7bd-cc723e7e67a7",
   "metadata": {},
   "source": [
    "사건의 범위는 변하지만, 분포는 고정되어 있는 형태다. 내가 한 마리의 고양이를 키우고 있다고 가정해보자. 위의 분포에서는, 즉, 내가 관측한 고양이들의 몸무게들 중에서는, 내 고양이의 몸무게가 4kg에서 5kg사이일 확률은 47.7%이고, 3.5kg에서 4kg 사이일 확률은 34%이다."
   ]
  },
  {
   "cell_type": "markdown",
   "id": "e31a7d0b-a9f1-4630-bee0-503519b50a89",
   "metadata": {},
   "source": [
    "$$\\mathbb{P}(\\text{data} | \\text{distribution})$$"
   ]
  },
  {
   "cell_type": "markdown",
   "id": "d2053a74-091f-4029-a721-54f46fc8f1bc",
   "metadata": {},
   "source": [
    "보통 “**확률**”이란, 위와 같은 형태이다. distribution이 정해져 있는 상태에서, 지금 이 데이터가 관측 될 확률이다."
   ]
  },
  {
   "cell_type": "markdown",
   "id": "864230e4-b429-4298-95d7-03a3143a418a",
   "metadata": {},
   "source": [
    "## 그럼 Likelihood는 무엇일까?"
   ]
  },
  {
   "cell_type": "markdown",
   "id": "eb56d6d7-b971-46f7-a548-9e0f39552255",
   "metadata": {},
   "source": [
    "아래 그림을 보자."
   ]
  },
  {
   "cell_type": "markdown",
   "id": "2a9d6c3a-5de7-4cce-a593-dced6975f533",
   "metadata": {},
   "source": [
    "![](images/mle/likelihood.png)"
   ]
  },
  {
   "cell_type": "markdown",
   "id": "e6126eba-e35e-48a6-89a5-f754715266e7",
   "metadata": {},
   "source": [
    "우리집 고양이가 5kg이라고 해보자. (뚱냥이다!)"
   ]
  },
  {
   "cell_type": "markdown",
   "id": "04bf79f5-74d9-4064-86de-841e97d3cfe6",
   "metadata": {},
   "source": [
    "우리집 뚱냥이의 몸무게라는 데이터(5kg)를 내가 관측했다. **그럼 이 데이터는 어떤 분포로부터 나왔다고 하는 게 가장 말이 될까?**"
   ]
  },
  {
   "cell_type": "markdown",
   "id": "ffb887f1-97a1-442f-bf9e-4c712dda18c0",
   "metadata": {},
   "source": [
    "만약 고양이 몸무게의 진짜, 리얼, 진리적인 분포, 즉, 이 세상 모든 고양이의 몸무게를 쟀더니 그 분포가 위 그림처럼 평균 4, 분산 0.5인 정규분포라고 가정해보자. 그럼 이 가정 하에서 우리집 뚱냥이의 likelihood는? 0.108이다."
   ]
  },
  {
   "cell_type": "markdown",
   "id": "00117585-a8e3-4e78-87c8-48c134e855f7",
   "metadata": {},
   "source": [
    "x=5인 경우의 확률분포의 y절편에 해당한다. 즉, 세로 선의 길이이다."
   ]
  },
  {
   "cell_type": "markdown",
   "id": "744c212b-62a0-47b9-9ad6-ec8d292074b1",
   "metadata": {},
   "source": [
    "$$\\mathcal{L}(\\mathcal{N}(4, 0.5) | \\text{고양이몸무게}=5)=0.108$$"
   ]
  },
  {
   "cell_type": "markdown",
   "id": "bc18fd29-99c6-44d6-91fa-8390e9e3ad3e",
   "metadata": {},
   "source": [
    "“고양이 몸무게가 5kg이라고 주어졌을 때, 정규분포 (4, 0.5)의 likelihood는 0.108이다”라고 해석한다."
   ]
  },
  {
   "cell_type": "markdown",
   "id": "f3789162-2dda-4144-bcef-6c58b9667bb7",
   "metadata": {},
   "source": [
    "다시다시, 분포를 오른쪽으로 조금 움직여봅시다!"
   ]
  },
  {
   "cell_type": "markdown",
   "id": "918ac2af-7420-45c2-afec-ee5791340f9a",
   "metadata": {},
   "source": [
    "![](images/mle/mycat-5.png)"
   ]
  },
  {
   "cell_type": "markdown",
   "id": "063f7a78-9b12-4c23-bf6b-9c9288a2f3f1",
   "metadata": {},
   "source": [
    "$$\\mathcal{L}(\\mathcal{N}(5, 0.5) | \\text{고양이몸무게}=5)=0.798$$"
   ]
  },
  {
   "cell_type": "markdown",
   "id": "d18e0a5e-2e4d-47ff-9124-f0252ead9cbe",
   "metadata": {},
   "source": [
    "내 고양이 몸무게가 5kg일 때, 이 데이터가 정규분포(5, 0.5)라는 분포의 likelihood는 0.798이다."
   ]
  },
  {
   "cell_type": "markdown",
   "id": "f015cc6a-a572-42c5-a70b-c0af941e6fc6",
   "metadata": {},
   "source": [
    "\n",
    "likelihood가 가장 높은 분포를 선택하는 것이 가장 말이 된다는 것은 이해가 간다. 아니 근데, 관측한 데이터로 분포를 때려 맞춘다고 했는데, 그 분포(분포란 평균과 표준편차를 의미함)의 likelihood 계산은 어떻게 하는가?"
   ]
  },
  {
   "cell_type": "markdown",
   "id": "0014d777-db99-4cf8-982e-381cb562016b",
   "metadata": {},
   "source": [
    "![](images/mle/likelihood-cal.png)"
   ]
  },
  {
   "cell_type": "markdown",
   "id": "9849cce0-ca08-4f2e-b9b9-bac7ec146d44",
   "metadata": {},
   "source": [
    "### likelihood"
   ]
  },
  {
   "cell_type": "markdown",
   "id": "d68a2dc4-bd1e-4e64-abd3-7e810ac99460",
   "metadata": {},
   "source": [
    "=지금 얻은 데이터(내 뚱냥이 몸무게 = 5kg)가 이 분포로부터 나왔을 가능도"
   ]
  },
  {
   "cell_type": "markdown",
   "id": "d40ffc0d-3dfe-49a0-8252-c35ada4c6481",
   "metadata": {},
   "source": [
    "=각 데이터 샘플에서 후보 분포에 대한 높이(likelihood, 기여도)의 곱(iid)"
   ]
  },
  {
   "cell_type": "markdown",
   "id": "fcec6f2b-b295-4bad-b9e3-92e122e8702c",
   "metadata": {},
   "source": [
    "다시다시, 내가 여러 마리의 고양이 몸무게를 측정했다(나는 현재 x들을 알고있다)."
   ]
  },
  {
   "cell_type": "markdown",
   "id": "634f4fd4-fbca-4f05-9973-35cd8bb3ef92",
   "metadata": {},
   "source": [
    "그렇다면, 이 몸무게들의 원래 분포는 무엇일까? → $\\theta$는 무엇일까? → 이 글의 경우에는 정규분포라고 가정했으므로 $\\theta$가 무엇일까?는 곧 평균과 분산이 무엇일까?가 된다."
   ]
  },
  {
   "cell_type": "markdown",
   "id": "abf04f5a-5494-471b-b396-ffb76956b2fd",
   "metadata": {},
   "source": [
    "이 과정이 바로 최대 우도 추정이다. $\\mathbb{P}(x|\\theta)$가 가장 커지는 $\\theta$를 추정하는 것이 가장 그럴 듯하다. 즉, 최대 우도 추정이란, $\\mathbb{P}(x|\\theta)$가 가장 커지는 $\\theta$(여기서는 평균과 표준편차)를 구하는 것이고, 모든 데이터를 이 분포에 빗대어 likelihood를 구해 모두 곱하고, 이 값이 가장 커지는 $\\theta$를 구하는 과정이다."
   ]
  },
  {
   "cell_type": "markdown",
   "id": "96cb0967-0b83-4239-8c30-31ff1e1306fe",
   "metadata": {},
   "source": [
    "똑똑한 누군가는 말한다."
   ]
  },
  {
   "cell_type": "markdown",
   "id": "f6d4ebb7-6bcc-4c9c-83b4-8c633a95161f",
   "metadata": {},
   "source": [
    "“이 $\\theta$일 때, 즉 이 분포일 때, 내가 측정한 고양이들의 몸무게 x들이 가장 나옴직해!”"
   ]
  },
  {
   "cell_type": "markdown",
   "id": "45320bb6-ca01-4c32-bee0-68f8f5b632b4",
   "metadata": {},
   "source": [
    "$$\\mathcal{L}(\\mathcal{N}(4, 0.5) | \\text{고양이몸무게})$$"
   ]
  },
  {
   "cell_type": "code",
   "execution_count": null,
   "id": "1bf976a2-acf3-443e-a075-843058dd6df6",
   "metadata": {},
   "outputs": [],
   "source": []
  },
  {
   "cell_type": "code",
   "execution_count": null,
   "id": "d8f712a8-e85a-4cf0-b9b2-6b8f352a0176",
   "metadata": {},
   "outputs": [],
   "source": []
  },
  {
   "cell_type": "code",
   "execution_count": null,
   "id": "9c92cab6-d868-403d-b2c1-3aacccd6ca9d",
   "metadata": {},
   "outputs": [],
   "source": []
  },
  {
   "cell_type": "code",
   "execution_count": null,
   "id": "284c8955-47eb-473d-abd1-ea8315509356",
   "metadata": {},
   "outputs": [],
   "source": []
  }
 ],
 "metadata": {
  "kernelspec": {
   "display_name": "jupyterbook",
   "language": "python",
   "name": "jupyterbook"
  },
  "language_info": {
   "codemirror_mode": {
    "name": "ipython",
    "version": 3
   },
   "file_extension": ".py",
   "mimetype": "text/x-python",
   "name": "python",
   "nbconvert_exporter": "python",
   "pygments_lexer": "ipython3",
   "version": "3.9.9"
  }
 },
 "nbformat": 4,
 "nbformat_minor": 5
}